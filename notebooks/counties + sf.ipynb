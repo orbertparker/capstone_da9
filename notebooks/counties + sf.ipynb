{
 "cells": [
  {
   "cell_type": "code",
   "execution_count": 1,
   "id": "6d552480",
   "metadata": {},
   "outputs": [],
   "source": [
    "import pandas as pd\n",
    "import numpy as np"
   ]
  },
  {
   "cell_type": "code",
   "execution_count": 2,
   "id": "a8edf342",
   "metadata": {},
   "outputs": [
    {
     "name": "stdout",
     "output_type": "stream",
     "text": [
      "Requirement already satisfied: openpyxl in c:\\programdata\\anaconda3\\envs\\scooters\\lib\\site-packages (3.1.2)\n",
      "Requirement already satisfied: et-xmlfile in c:\\programdata\\anaconda3\\envs\\scooters\\lib\\site-packages (from openpyxl) (1.1.0)\n"
     ]
    }
   ],
   "source": [
    "# you gotta install openpyxl to use pd.ReadExcel I guess\n",
    "\n",
    "import sys\n",
    "!{sys.executable} -m pip install openpyxl"
   ]
  },
  {
   "cell_type": "code",
   "execution_count": 3,
   "id": "2fb554fb",
   "metadata": {},
   "outputs": [],
   "source": [
    "# load the master sheet and then split the tabs into separate dataframes\n",
    "\n",
    "xls = pd.ExcelFile('../data/master_sheet.xlsx')\n",
    "old_sf = pd.read_excel(xls, 'old superfund sites')\n",
    "new_sf = pd.read_excel(xls, 'active superfund sites')"
   ]
  },
  {
   "cell_type": "code",
   "execution_count": 4,
   "id": "fffc9516",
   "metadata": {},
   "outputs": [],
   "source": [
    "top10 = ['WILSON', 'COFFEE', 'SULLIVAN', 'BRADLEY', 'RUTHERFORD', 'WARREN', 'SUMNER', 'LAUDERDALE', 'BLOUNT', 'MCMINN']"
   ]
  },
  {
   "cell_type": "code",
   "execution_count": 5,
   "id": "3410e8c0",
   "metadata": {},
   "outputs": [
    {
     "name": "stdout",
     "output_type": "stream",
     "text": [
      "<class 'pandas.core.frame.DataFrame'>\n",
      "RangeIndex: 29 entries, 0 to 28\n",
      "Data columns (total 7 columns):\n",
      " #   Column        Non-Null Count  Dtype         \n",
      "---  ------        --------------  -----         \n",
      " 0   Site Name     29 non-null     object        \n",
      " 1   City          29 non-null     object        \n",
      " 2   State         29 non-null     object        \n",
      " 3   County        29 non-null     object        \n",
      " 4   Site EPA ID   19 non-null     object        \n",
      " 5   Listing Date  19 non-null     datetime64[ns]\n",
      " 6   Site Score    19 non-null     float64       \n",
      "dtypes: datetime64[ns](1), float64(1), object(5)\n",
      "memory usage: 1.7+ KB\n"
     ]
    }
   ],
   "source": [
    "old_sf.info()"
   ]
  },
  {
   "cell_type": "code",
   "execution_count": 6,
   "id": "7b3de8c5",
   "metadata": {},
   "outputs": [
    {
     "name": "stdout",
     "output_type": "stream",
     "text": [
      "<class 'pandas.core.frame.DataFrame'>\n",
      "RangeIndex: 54 entries, 0 to 53\n",
      "Data columns (total 31 columns):\n",
      " #   Column                               Non-Null Count  Dtype         \n",
      "---  ------                               --------------  -----         \n",
      " 0   EPA ID                               54 non-null     object        \n",
      " 1   Site Name                            54 non-null     object        \n",
      " 2   City                                 54 non-null     object        \n",
      " 3   County                               54 non-null     object        \n",
      " 4   State                                54 non-null     object        \n",
      " 5   Street Address                       54 non-null     object        \n",
      " 6   Zip Code                             54 non-null     object        \n",
      " 7   Region                               54 non-null     object        \n",
      " 8   NPL Status                           54 non-null     object        \n",
      " 9   Partial NPL Deletion                 54 non-null     object        \n",
      " 10  Superfund Alternative Approach       54 non-null     object        \n",
      " 11  Site-wide Ready for Anticipated Use  54 non-null     object        \n",
      " 12  Human Exposure Under Control         54 non-null     object        \n",
      " 13  Groundwater Migration Under Control  54 non-null     object        \n",
      " 14  Construction Complete                54 non-null     object        \n",
      " 15  Construction Completion Date         1 non-null      datetime64[ns]\n",
      " 16  Non-NPL Status Category              53 non-null     object        \n",
      " 17  Non-NPL Status Subcategory           44 non-null     object        \n",
      " 18  Non-NPL Status                       53 non-null     object        \n",
      " 19  Site Status                          54 non-null     object        \n",
      " 20  Site Type                            38 non-null     object        \n",
      " 21  Site Type Subcategory                38 non-null     object        \n",
      " 22  Federal Agency                       7 non-null      object        \n",
      " 23  Native American Interest (NAI)       54 non-null     object        \n",
      " 24  Indian Entity (NAI Status)           0 non-null      float64       \n",
      " 25  HRS Score                            1 non-null      float64       \n",
      " 26  Federal Facility Indicator           54 non-null     object        \n",
      " 27  Alias/Alternative Site Name          15 non-null     object        \n",
      " 28  Non-NPL Status Date                  54 non-null     datetime64[ns]\n",
      " 29  Superfund Site Profile Page URL      1 non-null      object        \n",
      " 30  RCRA Handler ID - RCRA Handler Name  3 non-null      object        \n",
      "dtypes: datetime64[ns](2), float64(2), object(27)\n",
      "memory usage: 13.2+ KB\n"
     ]
    }
   ],
   "source": [
    "new_sf.info()"
   ]
  },
  {
   "cell_type": "code",
   "execution_count": 7,
   "id": "fe2f5fe7",
   "metadata": {},
   "outputs": [
    {
     "data": {
      "text/plain": [
       "{}"
      ]
     },
     "execution_count": 7,
     "metadata": {},
     "output_type": "execute_result"
    }
   ],
   "source": [
    "# count how many times the counties in bottom10 appear in old_sf and save it to a dictionary\n",
    "\n",
    "old_overlap = old_sf['County'][old_sf['County'].isin(top10)].value_counts().to_dict()\n",
    "old_overlap"
   ]
  },
  {
   "cell_type": "code",
   "execution_count": 8,
   "id": "69c70494",
   "metadata": {},
   "outputs": [
    {
     "data": {
      "text/plain": [
       "{'SULLIVAN': 8,\n",
       " 'MCMINN': 6,\n",
       " 'RUTHERFORD': 6,\n",
       " 'BLOUNT': 4,\n",
       " 'LAUDERDALE': 3,\n",
       " 'BRADLEY': 3,\n",
       " 'WILSON': 3,\n",
       " 'COFFEE': 3,\n",
       " 'SUMNER': 3,\n",
       " 'WARREN': 1}"
      ]
     },
     "execution_count": 8,
     "metadata": {},
     "output_type": "execute_result"
    }
   ],
   "source": [
    "new_overlap = new_sf['County'][new_sf['County'].isin(top10)].value_counts().to_dict()\n",
    "new_overlap"
   ]
  },
  {
   "cell_type": "markdown",
   "id": "0634d723",
   "metadata": {},
   "source": [
    "Interesting. This means that all of the counties in the top 10 have only recently had Superfund sites established. Let's check the bottom 10."
   ]
  },
  {
   "cell_type": "code",
   "execution_count": 9,
   "id": "b4ec23dc",
   "metadata": {},
   "outputs": [],
   "source": [
    "bottom10 = ['HANCOCK', 'HOUSTON', 'WAYNE', 'BENTON', 'MARION', 'LAKE', 'DYER', 'HENRY', 'GRUNDY', 'FENTRESS']"
   ]
  },
  {
   "cell_type": "code",
   "execution_count": 10,
   "id": "423ddfe5",
   "metadata": {},
   "outputs": [
    {
     "data": {
      "text/plain": [
       "{}"
      ]
     },
     "execution_count": 10,
     "metadata": {},
     "output_type": "execute_result"
    }
   ],
   "source": [
    "old_overlap2 = old_sf['County'][old_sf['County'].isin(bottom10)].value_counts().to_dict()\n",
    "old_overlap2"
   ]
  },
  {
   "cell_type": "code",
   "execution_count": 11,
   "id": "96dae9d3",
   "metadata": {},
   "outputs": [
    {
     "data": {
      "text/plain": [
       "{'HENRY': 4, 'BENTON': 4, 'WAYNE': 3, 'DYER': 1, 'LAKE': 1}"
      ]
     },
     "execution_count": 11,
     "metadata": {},
     "output_type": "execute_result"
    }
   ],
   "source": [
    "new_overlap2 = new_sf['County'][new_sf['County'].isin(bottom10)].value_counts().to_dict()\n",
    "new_overlap2"
   ]
  },
  {
   "cell_type": "markdown",
   "id": "12debdc9",
   "metadata": {},
   "source": [
    "So, the bottom 10 counties are several underserved. 32 superfund sites vs only 13."
   ]
  },
  {
   "cell_type": "code",
   "execution_count": null,
   "id": "6c02986b",
   "metadata": {},
   "outputs": [],
   "source": []
  }
 ],
 "metadata": {
  "kernelspec": {
   "display_name": "Python [conda env:scooters]",
   "language": "python",
   "name": "conda-env-scooters-py"
  },
  "language_info": {
   "codemirror_mode": {
    "name": "ipython",
    "version": 3
   },
   "file_extension": ".py",
   "mimetype": "text/x-python",
   "name": "python",
   "nbconvert_exporter": "python",
   "pygments_lexer": "ipython3",
   "version": "3.10.12"
  }
 },
 "nbformat": 4,
 "nbformat_minor": 5
}
